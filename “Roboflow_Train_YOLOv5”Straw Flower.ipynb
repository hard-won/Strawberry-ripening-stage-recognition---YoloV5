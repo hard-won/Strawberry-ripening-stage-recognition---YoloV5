{
  "nbformat": 4,
  "nbformat_minor": 0,
  "metadata": {
    "colab": {
      "provenance": [],
      "include_colab_link": true
    },
    "kernelspec": {
      "name": "python3",
      "display_name": "Python 3"
    },
    "accelerator": "GPU",
    "gpuClass": "standard"
  },
  "cells": [
    {
      "cell_type": "markdown",
      "metadata": {
        "id": "view-in-github",
        "colab_type": "text"
      },
      "source": [
        "<a href=\"https://colab.research.google.com/github/hard-won/Strawberry-ripening-stage-recognition---YoloV5/blob/main/%E2%80%9CRoboflow_Train_YOLOv5%E2%80%9DStraw%20Flower.ipynb\" target=\"_parent\"><img src=\"https://colab.research.google.com/assets/colab-badge.svg\" alt=\"Open In Colab\"/></a>"
      ]
    },
    {
      "cell_type": "markdown",
      "metadata": {
        "id": "GD9gUQpaBxNa"
      },
      "source": [
        "# How to Train YOLOv5 on Custom Objects\n",
        "\n",
        "This tutorial is based on the [YOLOv5 repository](https://github.com/ultralytics/yolov5) by [Ultralytics](https://www.ultralytics.com/). This notebook shows training on **your own custom objects**. Many thanks to Ultralytics for putting this repository together - we hope that in combination with clean data management tools at Roboflow, this technologoy will become easily accessible to any developer wishing to use computer vision in their projects.\n",
        "\n",
        "### Accompanying Blog Post\n",
        "\n",
        "We recommend that you follow along in this notebook while reading the blog post on [how to train YOLOv5](https://blog.roboflow.ai/how-to-train-yolov5-on-a-custom-dataset/), concurrently.\n",
        "\n",
        "### Steps Covered in this Tutorial\n",
        "\n",
        "In this tutorial, we will walk through the steps required to train YOLOv5 on your custom objects. We use a [public blood cell detection dataset](https://public.roboflow.ai/object-detection/bccd), which is open source and free to use. You can also use this notebook on your own data.\n",
        "\n",
        "To train our detector we take the following steps:\n",
        "\n",
        "* Install YOLOv5 dependencies\n",
        "* Download custom YOLOv5 object detection data\n",
        "* Write our YOLOv5 Training configuration\n",
        "* Run YOLOv5 training\n",
        "* Evaluate YOLOv5 performance\n",
        "* Visualize YOLOv5 training data\n",
        "* Run YOLOv5 inference on test images\n",
        "* Export saved YOLOv5 weights for future inference\n",
        "\n",
        "\n",
        "\n",
        "### **About**\n",
        "\n",
        "[Roboflow](https://roboflow.com) enables teams to deploy custom computer vision models quickly and accurately. Convert data from to annotation format, assess dataset health, preprocess, augment, and more. It's free for your first 1000 source images.\n",
        "\n",
        "**Looking for a vision model available via API without hassle? Try Roboflow Train.**\n",
        "\n",
        "![Roboflow Wordmark](https://i.imgur.com/dcLNMhV.png)\n",
        "\n"
      ]
    },
    {
      "cell_type": "markdown",
      "metadata": {
        "id": "7mGmQbAO5pQb"
      },
      "source": [
        "#Install Dependencies\n",
        "\n",
        "_(Remember to choose GPU in Runtime if not already selected. Runtime --> Change Runtime Type --> Hardware accelerator --> GPU)_"
      ]
    },
    {
      "cell_type": "code",
      "metadata": {
        "colab": {
          "base_uri": "https://localhost:8080/"
        },
        "id": "Ie5uLDH4uzAp",
        "outputId": "f29a74c4-0287-4ca7-aef6-d1c7f22ffb64"
      },
      "source": [
        "# clone YOLOv5 repository\n",
        "!git clone https://github.com/ultralytics/yolov5  # clone repo\n",
        "%cd yolov5\n",
        "!git reset --hard fbe67e465375231474a2ad80a4389efc77ecff99"
      ],
      "execution_count": 1,
      "outputs": [
        {
          "output_type": "stream",
          "name": "stdout",
          "text": [
            "Cloning into 'yolov5'...\n",
            "remote: Enumerating objects: 14384, done.\u001b[K\n",
            "remote: Counting objects: 100% (13/13), done.\u001b[K\n",
            "remote: Compressing objects: 100% (11/11), done.\u001b[K\n",
            "remote: Total 14384 (delta 4), reused 8 (delta 1), pack-reused 14371\u001b[K\n",
            "Receiving objects: 100% (14384/14384), 13.60 MiB | 23.68 MiB/s, done.\n",
            "Resolving deltas: 100% (9905/9905), done.\n",
            "/content/yolov5\n",
            "HEAD is now at fbe67e4 Fix `OMP_NUM_THREADS=1` for macOS (#8624)\n"
          ]
        }
      ]
    },
    {
      "cell_type": "code",
      "metadata": {
        "id": "wbvMlHd_QwMG",
        "colab": {
          "base_uri": "https://localhost:8080/"
        },
        "outputId": "518896a7-d88e-4e0c-85d7-1bf4685a1f23"
      },
      "source": [
        "# install dependencies as necessary\n",
        "!pip install -qr requirements.txt  # install dependencies (ignore errors)\n",
        "import torch\n",
        "\n",
        "from IPython.display import Image, clear_output  # to display images\n",
        "from utils.downloads import attempt_download  # to download models/datasets\n",
        "\n",
        "# clear_output()\n",
        "print('Setup complete. Using torch %s %s' % (torch.__version__, torch.cuda.get_device_properties(0) if torch.cuda.is_available() else 'CPU'))"
      ],
      "execution_count": 2,
      "outputs": [
        {
          "output_type": "stream",
          "name": "stdout",
          "text": [
            "\u001b[?25l\r\u001b[K     |▏                               | 10 kB 25.8 MB/s eta 0:00:01\r\u001b[K     |▍                               | 20 kB 8.9 MB/s eta 0:00:01\r\u001b[K     |▋                               | 30 kB 12.4 MB/s eta 0:00:01\r\u001b[K     |▉                               | 40 kB 6.2 MB/s eta 0:00:01\r\u001b[K     |█                               | 51 kB 6.4 MB/s eta 0:00:01\r\u001b[K     |█▎                              | 61 kB 7.6 MB/s eta 0:00:01\r\u001b[K     |█▌                              | 71 kB 7.3 MB/s eta 0:00:01\r\u001b[K     |█▊                              | 81 kB 7.4 MB/s eta 0:00:01\r\u001b[K     |█▉                              | 92 kB 8.0 MB/s eta 0:00:01\r\u001b[K     |██                              | 102 kB 7.2 MB/s eta 0:00:01\r\u001b[K     |██▎                             | 112 kB 7.2 MB/s eta 0:00:01\r\u001b[K     |██▌                             | 122 kB 7.2 MB/s eta 0:00:01\r\u001b[K     |██▊                             | 133 kB 7.2 MB/s eta 0:00:01\r\u001b[K     |███                             | 143 kB 7.2 MB/s eta 0:00:01\r\u001b[K     |███▏                            | 153 kB 7.2 MB/s eta 0:00:01\r\u001b[K     |███▍                            | 163 kB 7.2 MB/s eta 0:00:01\r\u001b[K     |███▌                            | 174 kB 7.2 MB/s eta 0:00:01\r\u001b[K     |███▊                            | 184 kB 7.2 MB/s eta 0:00:01\r\u001b[K     |████                            | 194 kB 7.2 MB/s eta 0:00:01\r\u001b[K     |████▏                           | 204 kB 7.2 MB/s eta 0:00:01\r\u001b[K     |████▍                           | 215 kB 7.2 MB/s eta 0:00:01\r\u001b[K     |████▋                           | 225 kB 7.2 MB/s eta 0:00:01\r\u001b[K     |████▉                           | 235 kB 7.2 MB/s eta 0:00:01\r\u001b[K     |█████                           | 245 kB 7.2 MB/s eta 0:00:01\r\u001b[K     |█████▎                          | 256 kB 7.2 MB/s eta 0:00:01\r\u001b[K     |█████▍                          | 266 kB 7.2 MB/s eta 0:00:01\r\u001b[K     |█████▋                          | 276 kB 7.2 MB/s eta 0:00:01\r\u001b[K     |█████▉                          | 286 kB 7.2 MB/s eta 0:00:01\r\u001b[K     |██████                          | 296 kB 7.2 MB/s eta 0:00:01\r\u001b[K     |██████▎                         | 307 kB 7.2 MB/s eta 0:00:01\r\u001b[K     |██████▌                         | 317 kB 7.2 MB/s eta 0:00:01\r\u001b[K     |██████▊                         | 327 kB 7.2 MB/s eta 0:00:01\r\u001b[K     |███████                         | 337 kB 7.2 MB/s eta 0:00:01\r\u001b[K     |███████                         | 348 kB 7.2 MB/s eta 0:00:01\r\u001b[K     |███████▎                        | 358 kB 7.2 MB/s eta 0:00:01\r\u001b[K     |███████▌                        | 368 kB 7.2 MB/s eta 0:00:01\r\u001b[K     |███████▊                        | 378 kB 7.2 MB/s eta 0:00:01\r\u001b[K     |████████                        | 389 kB 7.2 MB/s eta 0:00:01\r\u001b[K     |████████▏                       | 399 kB 7.2 MB/s eta 0:00:01\r\u001b[K     |████████▍                       | 409 kB 7.2 MB/s eta 0:00:01\r\u001b[K     |████████▋                       | 419 kB 7.2 MB/s eta 0:00:01\r\u001b[K     |████████▊                       | 430 kB 7.2 MB/s eta 0:00:01\r\u001b[K     |█████████                       | 440 kB 7.2 MB/s eta 0:00:01\r\u001b[K     |█████████▏                      | 450 kB 7.2 MB/s eta 0:00:01\r\u001b[K     |█████████▍                      | 460 kB 7.2 MB/s eta 0:00:01\r\u001b[K     |█████████▋                      | 471 kB 7.2 MB/s eta 0:00:01\r\u001b[K     |█████████▉                      | 481 kB 7.2 MB/s eta 0:00:01\r\u001b[K     |██████████                      | 491 kB 7.2 MB/s eta 0:00:01\r\u001b[K     |██████████▎                     | 501 kB 7.2 MB/s eta 0:00:01\r\u001b[K     |██████████▌                     | 512 kB 7.2 MB/s eta 0:00:01\r\u001b[K     |██████████▋                     | 522 kB 7.2 MB/s eta 0:00:01\r\u001b[K     |██████████▉                     | 532 kB 7.2 MB/s eta 0:00:01\r\u001b[K     |███████████                     | 542 kB 7.2 MB/s eta 0:00:01\r\u001b[K     |███████████▎                    | 552 kB 7.2 MB/s eta 0:00:01\r\u001b[K     |███████████▌                    | 563 kB 7.2 MB/s eta 0:00:01\r\u001b[K     |███████████▊                    | 573 kB 7.2 MB/s eta 0:00:01\r\u001b[K     |████████████                    | 583 kB 7.2 MB/s eta 0:00:01\r\u001b[K     |████████████▏                   | 593 kB 7.2 MB/s eta 0:00:01\r\u001b[K     |████████████▎                   | 604 kB 7.2 MB/s eta 0:00:01\r\u001b[K     |████████████▌                   | 614 kB 7.2 MB/s eta 0:00:01\r\u001b[K     |████████████▊                   | 624 kB 7.2 MB/s eta 0:00:01\r\u001b[K     |█████████████                   | 634 kB 7.2 MB/s eta 0:00:01\r\u001b[K     |█████████████▏                  | 645 kB 7.2 MB/s eta 0:00:01\r\u001b[K     |█████████████▍                  | 655 kB 7.2 MB/s eta 0:00:01\r\u001b[K     |█████████████▋                  | 665 kB 7.2 MB/s eta 0:00:01\r\u001b[K     |█████████████▉                  | 675 kB 7.2 MB/s eta 0:00:01\r\u001b[K     |██████████████                  | 686 kB 7.2 MB/s eta 0:00:01\r\u001b[K     |██████████████▏                 | 696 kB 7.2 MB/s eta 0:00:01\r\u001b[K     |██████████████▍                 | 706 kB 7.2 MB/s eta 0:00:01\r\u001b[K     |██████████████▋                 | 716 kB 7.2 MB/s eta 0:00:01\r\u001b[K     |██████████████▉                 | 727 kB 7.2 MB/s eta 0:00:01\r\u001b[K     |███████████████                 | 737 kB 7.2 MB/s eta 0:00:01\r\u001b[K     |███████████████▎                | 747 kB 7.2 MB/s eta 0:00:01\r\u001b[K     |███████████████▌                | 757 kB 7.2 MB/s eta 0:00:01\r\u001b[K     |███████████████▊                | 768 kB 7.2 MB/s eta 0:00:01\r\u001b[K     |███████████████▉                | 778 kB 7.2 MB/s eta 0:00:01\r\u001b[K     |████████████████                | 788 kB 7.2 MB/s eta 0:00:01\r\u001b[K     |████████████████▎               | 798 kB 7.2 MB/s eta 0:00:01\r\u001b[K     |████████████████▌               | 808 kB 7.2 MB/s eta 0:00:01\r\u001b[K     |████████████████▊               | 819 kB 7.2 MB/s eta 0:00:01\r\u001b[K     |█████████████████               | 829 kB 7.2 MB/s eta 0:00:01\r\u001b[K     |█████████████████▏              | 839 kB 7.2 MB/s eta 0:00:01\r\u001b[K     |█████████████████▍              | 849 kB 7.2 MB/s eta 0:00:01\r\u001b[K     |█████████████████▌              | 860 kB 7.2 MB/s eta 0:00:01\r\u001b[K     |█████████████████▊              | 870 kB 7.2 MB/s eta 0:00:01\r\u001b[K     |██████████████████              | 880 kB 7.2 MB/s eta 0:00:01\r\u001b[K     |██████████████████▏             | 890 kB 7.2 MB/s eta 0:00:01\r\u001b[K     |██████████████████▍             | 901 kB 7.2 MB/s eta 0:00:01\r\u001b[K     |██████████████████▋             | 911 kB 7.2 MB/s eta 0:00:01\r\u001b[K     |██████████████████▉             | 921 kB 7.2 MB/s eta 0:00:01\r\u001b[K     |███████████████████             | 931 kB 7.2 MB/s eta 0:00:01\r\u001b[K     |███████████████████▎            | 942 kB 7.2 MB/s eta 0:00:01\r\u001b[K     |███████████████████▍            | 952 kB 7.2 MB/s eta 0:00:01\r\u001b[K     |███████████████████▋            | 962 kB 7.2 MB/s eta 0:00:01\r\u001b[K     |███████████████████▉            | 972 kB 7.2 MB/s eta 0:00:01\r\u001b[K     |████████████████████            | 983 kB 7.2 MB/s eta 0:00:01\r\u001b[K     |████████████████████▎           | 993 kB 7.2 MB/s eta 0:00:01\r\u001b[K     |████████████████████▌           | 1.0 MB 7.2 MB/s eta 0:00:01\r\u001b[K     |████████████████████▊           | 1.0 MB 7.2 MB/s eta 0:00:01\r\u001b[K     |█████████████████████           | 1.0 MB 7.2 MB/s eta 0:00:01\r\u001b[K     |█████████████████████           | 1.0 MB 7.2 MB/s eta 0:00:01\r\u001b[K     |█████████████████████▎          | 1.0 MB 7.2 MB/s eta 0:00:01\r\u001b[K     |█████████████████████▌          | 1.1 MB 7.2 MB/s eta 0:00:01\r\u001b[K     |█████████████████████▊          | 1.1 MB 7.2 MB/s eta 0:00:01\r\u001b[K     |██████████████████████          | 1.1 MB 7.2 MB/s eta 0:00:01\r\u001b[K     |██████████████████████▏         | 1.1 MB 7.2 MB/s eta 0:00:01\r\u001b[K     |██████████████████████▍         | 1.1 MB 7.2 MB/s eta 0:00:01\r\u001b[K     |██████████████████████▋         | 1.1 MB 7.2 MB/s eta 0:00:01\r\u001b[K     |██████████████████████▊         | 1.1 MB 7.2 MB/s eta 0:00:01\r\u001b[K     |███████████████████████         | 1.1 MB 7.2 MB/s eta 0:00:01\r\u001b[K     |███████████████████████▏        | 1.1 MB 7.2 MB/s eta 0:00:01\r\u001b[K     |███████████████████████▍        | 1.1 MB 7.2 MB/s eta 0:00:01\r\u001b[K     |███████████████████████▋        | 1.2 MB 7.2 MB/s eta 0:00:01\r\u001b[K     |███████████████████████▉        | 1.2 MB 7.2 MB/s eta 0:00:01\r\u001b[K     |████████████████████████        | 1.2 MB 7.2 MB/s eta 0:00:01\r\u001b[K     |████████████████████████▎       | 1.2 MB 7.2 MB/s eta 0:00:01\r\u001b[K     |████████████████████████▌       | 1.2 MB 7.2 MB/s eta 0:00:01\r\u001b[K     |████████████████████████▋       | 1.2 MB 7.2 MB/s eta 0:00:01\r\u001b[K     |████████████████████████▉       | 1.2 MB 7.2 MB/s eta 0:00:01\r\u001b[K     |█████████████████████████       | 1.2 MB 7.2 MB/s eta 0:00:01\r\u001b[K     |█████████████████████████▎      | 1.2 MB 7.2 MB/s eta 0:00:01\r\u001b[K     |█████████████████████████▌      | 1.2 MB 7.2 MB/s eta 0:00:01\r\u001b[K     |█████████████████████████▊      | 1.3 MB 7.2 MB/s eta 0:00:01\r\u001b[K     |██████████████████████████      | 1.3 MB 7.2 MB/s eta 0:00:01\r\u001b[K     |██████████████████████████▏     | 1.3 MB 7.2 MB/s eta 0:00:01\r\u001b[K     |██████████████████████████▎     | 1.3 MB 7.2 MB/s eta 0:00:01\r\u001b[K     |██████████████████████████▌     | 1.3 MB 7.2 MB/s eta 0:00:01\r\u001b[K     |██████████████████████████▊     | 1.3 MB 7.2 MB/s eta 0:00:01\r\u001b[K     |███████████████████████████     | 1.3 MB 7.2 MB/s eta 0:00:01\r\u001b[K     |███████████████████████████▏    | 1.3 MB 7.2 MB/s eta 0:00:01\r\u001b[K     |███████████████████████████▍    | 1.3 MB 7.2 MB/s eta 0:00:01\r\u001b[K     |███████████████████████████▋    | 1.4 MB 7.2 MB/s eta 0:00:01\r\u001b[K     |███████████████████████████▉    | 1.4 MB 7.2 MB/s eta 0:00:01\r\u001b[K     |████████████████████████████    | 1.4 MB 7.2 MB/s eta 0:00:01\r\u001b[K     |████████████████████████████▏   | 1.4 MB 7.2 MB/s eta 0:00:01\r\u001b[K     |████████████████████████████▍   | 1.4 MB 7.2 MB/s eta 0:00:01\r\u001b[K     |████████████████████████████▋   | 1.4 MB 7.2 MB/s eta 0:00:01\r\u001b[K     |████████████████████████████▉   | 1.4 MB 7.2 MB/s eta 0:00:01\r\u001b[K     |█████████████████████████████   | 1.4 MB 7.2 MB/s eta 0:00:01\r\u001b[K     |█████████████████████████████▎  | 1.4 MB 7.2 MB/s eta 0:00:01\r\u001b[K     |█████████████████████████████▌  | 1.4 MB 7.2 MB/s eta 0:00:01\r\u001b[K     |█████████████████████████████▊  | 1.5 MB 7.2 MB/s eta 0:00:01\r\u001b[K     |█████████████████████████████▉  | 1.5 MB 7.2 MB/s eta 0:00:01\r\u001b[K     |██████████████████████████████  | 1.5 MB 7.2 MB/s eta 0:00:01\r\u001b[K     |██████████████████████████████▎ | 1.5 MB 7.2 MB/s eta 0:00:01\r\u001b[K     |██████████████████████████████▌ | 1.5 MB 7.2 MB/s eta 0:00:01\r\u001b[K     |██████████████████████████████▊ | 1.5 MB 7.2 MB/s eta 0:00:01\r\u001b[K     |███████████████████████████████ | 1.5 MB 7.2 MB/s eta 0:00:01\r\u001b[K     |███████████████████████████████▏| 1.5 MB 7.2 MB/s eta 0:00:01\r\u001b[K     |███████████████████████████████▍| 1.5 MB 7.2 MB/s eta 0:00:01\r\u001b[K     |███████████████████████████████▌| 1.5 MB 7.2 MB/s eta 0:00:01\r\u001b[K     |███████████████████████████████▊| 1.6 MB 7.2 MB/s eta 0:00:01\r\u001b[K     |████████████████████████████████| 1.6 MB 7.2 MB/s eta 0:00:01\r\u001b[K     |████████████████████████████████| 1.6 MB 7.2 MB/s \n",
            "\u001b[?25hSetup complete. Using torch 1.13.0+cu116 _CudaDeviceProperties(name='Tesla T4', major=7, minor=5, total_memory=15109MB, multi_processor_count=40)\n"
          ]
        }
      ]
    },
    {
      "cell_type": "markdown",
      "metadata": {
        "id": "SDIhrBF0sPaM"
      },
      "source": [
        "# Download Correctly Formatted Custom Dataset \n",
        "\n",
        "We'll download our dataset from Roboflow. Use the \"**YOLOv5 PyTorch**\" export format. Note that the Ultralytics implementation calls for a YAML file defining where your training and test data is. The Roboflow export also writes this format for us.\n",
        "\n",
        "To get your data into Roboflow, follow the [Getting Started Guide](https://blog.roboflow.ai/getting-started-with-roboflow/)."
      ]
    },
    {
      "cell_type": "markdown",
      "metadata": {
        "id": "vDeebwqS9JbZ"
      },
      "source": [
        "\n",
        "\n",
        "![YOLOv5 PyTorch export](https://i.imgur.com/5vr9G2u.png)\n"
      ]
    },
    {
      "cell_type": "code",
      "metadata": {
        "id": "Knxi2ncxWffW",
        "colab": {
          "base_uri": "https://localhost:8080/"
        },
        "outputId": "1c45cfbc-5039-446b-9551-670ca8df39ac"
      },
      "source": [
        "#follow the link below to get your download code from from Roboflow\n",
        "!pip install -q roboflow\n",
        "from roboflow import Roboflow\n",
        "rf = Roboflow(model_format=\"yolov5\", notebook=\"roboflow-yolov5\")"
      ],
      "execution_count": 3,
      "outputs": [
        {
          "output_type": "stream",
          "name": "stdout",
          "text": [
            "\u001b[K     |████████████████████████████████| 42 kB 388 kB/s \n",
            "\u001b[K     |████████████████████████████████| 145 kB 12.4 MB/s \n",
            "\u001b[K     |████████████████████████████████| 67 kB 7.4 MB/s \n",
            "\u001b[K     |████████████████████████████████| 54 kB 3.8 MB/s \n",
            "\u001b[K     |████████████████████████████████| 178 kB 68.1 MB/s \n",
            "\u001b[K     |████████████████████████████████| 138 kB 51.8 MB/s \n",
            "\u001b[K     |████████████████████████████████| 62 kB 1.7 MB/s \n",
            "\u001b[?25h  Building wheel for wget (setup.py) ... \u001b[?25l\u001b[?25hdone\n",
            "upload and label your dataset, and get an API KEY here: https://app.roboflow.com/?model=yolov5&ref=roboflow-yolov5\n"
          ]
        }
      ]
    },
    {
      "cell_type": "code",
      "metadata": {
        "id": "Ug_PhK1oqwQA",
        "colab": {
          "base_uri": "https://localhost:8080/"
        },
        "outputId": "f66e949e-31c1-4a85-942f-b826fe846a72"
      },
      "source": [
        "%cd /content/yolov5\n",
        "#after following the link above, recieve python code with these fields filled in\n",
        "!pip install roboflow\n",
        "\n",
        "from roboflow import Roboflow\n",
        "rf = Roboflow(api_key=\"Dbbgy9hpdtDAaIYzVhGQ\")\n",
        "project = rf.workspace(\"strawberry-roboflow-oth4x\").project(\"straw1\")\n",
        "dataset = project.version(4).download(\"yolov5\")"
      ],
      "execution_count": 4,
      "outputs": [
        {
          "output_type": "stream",
          "name": "stdout",
          "text": [
            "/content/yolov5\n",
            "Looking in indexes: https://pypi.org/simple, https://us-python.pkg.dev/colab-wheels/public/simple/\n",
            "Requirement already satisfied: roboflow in /usr/local/lib/python3.8/dist-packages (0.2.21)\n",
            "Requirement already satisfied: certifi==2021.5.30 in /usr/local/lib/python3.8/dist-packages (from roboflow) (2021.5.30)\n",
            "Requirement already satisfied: Pillow>=7.1.2 in /usr/local/lib/python3.8/dist-packages (from roboflow) (7.1.2)\n",
            "Requirement already satisfied: wget in /usr/local/lib/python3.8/dist-packages (from roboflow) (3.2)\n",
            "Requirement already satisfied: matplotlib in /usr/local/lib/python3.8/dist-packages (from roboflow) (3.2.2)\n",
            "Requirement already satisfied: python-dotenv in /usr/local/lib/python3.8/dist-packages (from roboflow) (0.21.0)\n",
            "Requirement already satisfied: tqdm>=4.41.0 in /usr/local/lib/python3.8/dist-packages (from roboflow) (4.64.1)\n",
            "Requirement already satisfied: python-dateutil in /usr/local/lib/python3.8/dist-packages (from roboflow) (2.8.2)\n",
            "Requirement already satisfied: glob2 in /usr/local/lib/python3.8/dist-packages (from roboflow) (0.7)\n",
            "Requirement already satisfied: requests in /usr/local/lib/python3.8/dist-packages (from roboflow) (2.28.1)\n",
            "Requirement already satisfied: cycler==0.10.0 in /usr/local/lib/python3.8/dist-packages (from roboflow) (0.10.0)\n",
            "Requirement already satisfied: pyparsing==2.4.7 in /usr/local/lib/python3.8/dist-packages (from roboflow) (2.4.7)\n",
            "Requirement already satisfied: kiwisolver>=1.3.1 in /usr/local/lib/python3.8/dist-packages (from roboflow) (1.4.4)\n",
            "Requirement already satisfied: numpy>=1.18.5 in /usr/local/lib/python3.8/dist-packages (from roboflow) (1.21.6)\n",
            "Requirement already satisfied: opencv-python-headless>=4.5.1.48 in /usr/local/lib/python3.8/dist-packages (from roboflow) (4.6.0.66)\n",
            "Requirement already satisfied: six in /usr/local/lib/python3.8/dist-packages (from roboflow) (1.15.0)\n",
            "Requirement already satisfied: urllib3==1.26.6 in /usr/local/lib/python3.8/dist-packages (from roboflow) (1.26.6)\n",
            "Requirement already satisfied: PyYAML>=5.3.1 in /usr/local/lib/python3.8/dist-packages (from roboflow) (6.0)\n",
            "Requirement already satisfied: chardet==4.0.0 in /usr/local/lib/python3.8/dist-packages (from roboflow) (4.0.0)\n",
            "Requirement already satisfied: idna==2.10 in /usr/local/lib/python3.8/dist-packages (from roboflow) (2.10)\n",
            "Requirement already satisfied: requests-toolbelt in /usr/local/lib/python3.8/dist-packages (from roboflow) (0.10.1)\n",
            "Requirement already satisfied: charset-normalizer<3,>=2 in /usr/local/lib/python3.8/dist-packages (from requests->roboflow) (2.1.1)\n",
            "loading Roboflow workspace...\n",
            "loading Roboflow project...\n",
            "Downloading Dataset Version Zip in straw1-4 to yolov5pytorch: 100% [20791524 / 20791524] bytes\n"
          ]
        },
        {
          "output_type": "stream",
          "name": "stderr",
          "text": [
            "Extracting Dataset Version Zip to straw1-4 in yolov5pytorch:: 100%|██████████| 1010/1010 [00:00<00:00, 2146.06it/s]\n"
          ]
        }
      ]
    },
    {
      "cell_type": "code",
      "metadata": {
        "id": "ZZ3DmmGQztJj",
        "colab": {
          "base_uri": "https://localhost:8080/"
        },
        "outputId": "6d1b2e0a-1ddf-4136-df1f-c12f4b4b7fa5"
      },
      "source": [
        "# this is the YAML file Roboflow wrote for us that we're loading into this notebook with our data\n",
        "%cat {dataset.location}/data.yaml"
      ],
      "execution_count": 5,
      "outputs": [
        {
          "output_type": "stream",
          "name": "stdout",
          "text": [
            "names:\n",
            "- Flower\n",
            "nc: 1\n",
            "train: straw1-4/train/images\n",
            "val: straw1-4/valid/images\n"
          ]
        }
      ]
    },
    {
      "cell_type": "markdown",
      "metadata": {
        "id": "UwJx-2NHsYxT"
      },
      "source": [
        "# Define Model Configuration and Architecture\n",
        "\n",
        "We will write a yaml script that defines the parameters for our model like the number of classes, anchors, and each layer.\n",
        "\n",
        "You do not need to edit these cells, but you may."
      ]
    },
    {
      "cell_type": "code",
      "metadata": {
        "id": "dOPn9wjOAwwK"
      },
      "source": [
        "# define number of classes based on YAML\n",
        "import yaml\n",
        "with open(dataset.location + \"/data.yaml\", 'r') as stream:\n",
        "    num_classes = str(yaml.safe_load(stream)['nc'])"
      ],
      "execution_count": 6,
      "outputs": []
    },
    {
      "cell_type": "code",
      "metadata": {
        "id": "1Rvt5wilnDyX",
        "colab": {
          "base_uri": "https://localhost:8080/"
        },
        "outputId": "85d4cb56-ecc9-497e-f702-5e66608f1ae4"
      },
      "source": [
        "#this is the model configuration we will use for our tutorial \n",
        "%cat /content/yolov5/models/yolov5s.yaml"
      ],
      "execution_count": 7,
      "outputs": [
        {
          "output_type": "stream",
          "name": "stdout",
          "text": [
            "# YOLOv5 🚀 by Ultralytics, GPL-3.0 license\n",
            "\n",
            "# Parameters\n",
            "nc: 80  # number of classes\n",
            "depth_multiple: 0.33  # model depth multiple\n",
            "width_multiple: 0.50  # layer channel multiple\n",
            "anchors:\n",
            "  - [10,13, 16,30, 33,23]  # P3/8\n",
            "  - [30,61, 62,45, 59,119]  # P4/16\n",
            "  - [116,90, 156,198, 373,326]  # P5/32\n",
            "\n",
            "# YOLOv5 v6.0 backbone\n",
            "backbone:\n",
            "  # [from, number, module, args]\n",
            "  [[-1, 1, Conv, [64, 6, 2, 2]],  # 0-P1/2\n",
            "   [-1, 1, Conv, [128, 3, 2]],  # 1-P2/4\n",
            "   [-1, 3, C3, [128]],\n",
            "   [-1, 1, Conv, [256, 3, 2]],  # 3-P3/8\n",
            "   [-1, 6, C3, [256]],\n",
            "   [-1, 1, Conv, [512, 3, 2]],  # 5-P4/16\n",
            "   [-1, 9, C3, [512]],\n",
            "   [-1, 1, Conv, [1024, 3, 2]],  # 7-P5/32\n",
            "   [-1, 3, C3, [1024]],\n",
            "   [-1, 1, SPPF, [1024, 5]],  # 9\n",
            "  ]\n",
            "\n",
            "# YOLOv5 v6.0 head\n",
            "head:\n",
            "  [[-1, 1, Conv, [512, 1, 1]],\n",
            "   [-1, 1, nn.Upsample, [None, 2, 'nearest']],\n",
            "   [[-1, 6], 1, Concat, [1]],  # cat backbone P4\n",
            "   [-1, 3, C3, [512, False]],  # 13\n",
            "\n",
            "   [-1, 1, Conv, [256, 1, 1]],\n",
            "   [-1, 1, nn.Upsample, [None, 2, 'nearest']],\n",
            "   [[-1, 4], 1, Concat, [1]],  # cat backbone P3\n",
            "   [-1, 3, C3, [256, False]],  # 17 (P3/8-small)\n",
            "\n",
            "   [-1, 1, Conv, [256, 3, 2]],\n",
            "   [[-1, 14], 1, Concat, [1]],  # cat head P4\n",
            "   [-1, 3, C3, [512, False]],  # 20 (P4/16-medium)\n",
            "\n",
            "   [-1, 1, Conv, [512, 3, 2]],\n",
            "   [[-1, 10], 1, Concat, [1]],  # cat head P5\n",
            "   [-1, 3, C3, [1024, False]],  # 23 (P5/32-large)\n",
            "\n",
            "   [[17, 20, 23], 1, Detect, [nc, anchors]],  # Detect(P3, P4, P5)\n",
            "  ]\n"
          ]
        }
      ]
    },
    {
      "cell_type": "code",
      "metadata": {
        "id": "t14hhyqdmw6O"
      },
      "source": [
        "#customize iPython writefile so we can write variables\n",
        "from IPython.core.magic import register_line_cell_magic\n",
        "\n",
        "@register_line_cell_magic\n",
        "def writetemplate(line, cell):\n",
        "    with open(line, 'w') as f:\n",
        "        f.write(cell.format(**globals()))"
      ],
      "execution_count": 8,
      "outputs": []
    },
    {
      "cell_type": "code",
      "metadata": {
        "id": "uDxebz13RdRA"
      },
      "source": [
        "%%writetemplate /content/yolov5/models/custom_yolov5s.yaml\n",
        "\n",
        "# parameters\n",
        "nc: {num_classes}  # number of classes\n",
        "depth_multiple: 0.33  # model depth multiple\n",
        "width_multiple: 0.50  # layer channel multiple\n",
        "\n",
        "# anchors\n",
        "anchors:\n",
        "  - [10,13, 16,30, 33,23]  # P3/8\n",
        "  - [30,61, 62,45, 59,119]  # P4/16\n",
        "  - [116,90, 156,198, 373,326]  # P5/32\n",
        "\n",
        "# YOLOv5 backbone\n",
        "backbone:\n",
        "  # [from, number, module, args]\n",
        "  [[-1, 1, Focus, [64, 3]],  # 0-P1/2\n",
        "   [-1, 1, Conv, [128, 3, 2]],  # 1-P2/4\n",
        "   [-1, 3, BottleneckCSP, [128]],\n",
        "   [-1, 1, Conv, [256, 3, 2]],  # 3-P3/8\n",
        "   [-1, 9, BottleneckCSP, [256]],\n",
        "   [-1, 1, Conv, [512, 3, 2]],  # 5-P4/16\n",
        "   [-1, 9, BottleneckCSP, [512]],\n",
        "   [-1, 1, Conv, [1024, 3, 2]],  # 7-P5/32\n",
        "   [-1, 1, SPP, [1024, [5, 9, 13]]],\n",
        "   [-1, 3, BottleneckCSP, [1024, False]],  # 9\n",
        "  ]\n",
        "\n",
        "# YOLOv5 head\n",
        "head:\n",
        "  [[-1, 1, Conv, [512, 1, 1]],\n",
        "   [-1, 1, nn.Upsample, [None, 2, 'nearest']],\n",
        "   [[-1, 6], 1, Concat, [1]],  # cat backbone P4\n",
        "   [-1, 3, BottleneckCSP, [512, False]],  # 13\n",
        "\n",
        "   [-1, 1, Conv, [256, 1, 1]],\n",
        "   [-1, 1, nn.Upsample, [None, 2, 'nearest']],\n",
        "   [[-1, 4], 1, Concat, [1]],  # cat backbone P3\n",
        "   [-1, 3, BottleneckCSP, [256, False]],  # 17 (P3/8-small)\n",
        "\n",
        "   [-1, 1, Conv, [256, 3, 2]],\n",
        "   [[-1, 14], 1, Concat, [1]],  # cat head P4\n",
        "   [-1, 3, BottleneckCSP, [512, False]],  # 20 (P4/16-medium)\n",
        "\n",
        "   [-1, 1, Conv, [512, 3, 2]],\n",
        "   [[-1, 10], 1, Concat, [1]],  # cat head P5\n",
        "   [-1, 3, BottleneckCSP, [1024, False]],  # 23 (P5/32-large)\n",
        "\n",
        "   [[17, 20, 23], 1, Detect, [nc, anchors]],  # Detect(P3, P4, P5)\n",
        "  ]"
      ],
      "execution_count": 9,
      "outputs": []
    },
    {
      "cell_type": "markdown",
      "metadata": {
        "id": "VUOiNLtMP5aG"
      },
      "source": [
        "# Train Custom YOLOv5 Detector\n",
        "\n",
        "### Next, we'll fire off training!\n",
        "\n",
        "\n",
        "Here, we are able to pass a number of arguments:\n",
        "- **img:** define input image size\n",
        "- **batch:** determine batch size\n",
        "- **epochs:** define the number of training epochs. (Note: often, 3000+ are common here!)\n",
        "- **data:** set the path to our yaml file\n",
        "- **cfg:** specify our model configuration\n",
        "- **weights:** specify a custom path to weights. (Note: you can download weights from the Ultralytics Google Drive [folder](https://drive.google.com/open?id=1Drs_Aiu7xx6S-ix95f9kNsA6ueKRpN2J))\n",
        "- **name:** result names\n",
        "- **nosave:** only save the final checkpoint\n",
        "- **cache:** cache images for faster training"
      ]
    },
    {
      "cell_type": "code",
      "metadata": {
        "id": "1NcFxRcFdJ_O",
        "colab": {
          "base_uri": "https://localhost:8080/"
        },
        "outputId": "dc8b2e7a-7f90-4bda-a87b-dccf3bf9d248"
      },
      "source": [
        "# train yolov5s on custom data for 100 epochs\n",
        "# time its performance\n",
        "%%time\n",
        "%cd /content/yolov5/\n",
        "!python train.py --img 416 --batch 16 --epochs 100 --data {dataset.location}/data.yaml --cfg ./models/custom_yolov5s.yaml --weights '' --name yolov5s_results  --cache"
      ],
      "execution_count": null,
      "outputs": [
        {
          "output_type": "stream",
          "name": "stdout",
          "text": [
            "/content/yolov5\n",
            "\u001b[34m\u001b[1mtrain: \u001b[0mweights=, cfg=./models/custom_yolov5s.yaml, data=/content/yolov5/straw1-4/data.yaml, hyp=data/hyps/hyp.scratch-low.yaml, epochs=100, batch_size=16, imgsz=416, rect=False, resume=False, nosave=False, noval=False, noautoanchor=False, noplots=False, evolve=None, bucket=, cache=ram, image_weights=False, device=, multi_scale=False, single_cls=False, optimizer=SGD, sync_bn=False, workers=8, project=runs/train, name=yolov5s_results, exist_ok=False, quad=False, cos_lr=False, label_smoothing=0.0, patience=100, freeze=[0], save_period=-1, seed=0, local_rank=-1, entity=None, upload_dataset=False, bbox_interval=-1, artifact_alias=latest\n",
            "\u001b[34m\u001b[1mgithub: \u001b[0m⚠️ YOLOv5 is out of date by 391 commits. Use `git pull` or `git clone https://github.com/ultralytics/yolov5` to update.\n",
            "YOLOv5 🚀 v6.1-306-gfbe67e4 Python-3.8.15 torch-1.13.0+cu116 CUDA:0 (Tesla T4, 15110MiB)\n",
            "\n",
            "\u001b[34m\u001b[1mhyperparameters: \u001b[0mlr0=0.01, lrf=0.01, momentum=0.937, weight_decay=0.0005, warmup_epochs=3.0, warmup_momentum=0.8, warmup_bias_lr=0.1, box=0.05, cls=0.5, cls_pw=1.0, obj=1.0, obj_pw=1.0, iou_t=0.2, anchor_t=4.0, fl_gamma=0.0, hsv_h=0.015, hsv_s=0.7, hsv_v=0.4, degrees=0.0, translate=0.1, scale=0.5, shear=0.0, perspective=0.0, flipud=0.0, fliplr=0.5, mosaic=1.0, mixup=0.0, copy_paste=0.0\n",
            "\u001b[34m\u001b[1mWeights & Biases: \u001b[0mrun 'pip install wandb' to automatically track and visualize YOLOv5 🚀 runs (RECOMMENDED)\n",
            "\u001b[34m\u001b[1mTensorBoard: \u001b[0mStart with 'tensorboard --logdir runs/train', view at http://localhost:6006/\n",
            "Downloading https://ultralytics.com/assets/Arial.ttf to /root/.config/Ultralytics/Arial.ttf...\n",
            "100% 755k/755k [00:00<00:00, 21.5MB/s]\n",
            "\n",
            "                 from  n    params  module                                  arguments                     \n",
            "  0                -1  1      3520  models.common.Focus                     [3, 32, 3]                    \n",
            "  1                -1  1     18560  models.common.Conv                      [32, 64, 3, 2]                \n",
            "  2                -1  1     19904  models.common.BottleneckCSP             [64, 64, 1]                   \n",
            "  3                -1  1     73984  models.common.Conv                      [64, 128, 3, 2]               \n",
            "  4                -1  3    161152  models.common.BottleneckCSP             [128, 128, 3]                 \n",
            "  5                -1  1    295424  models.common.Conv                      [128, 256, 3, 2]              \n",
            "  6                -1  3    641792  models.common.BottleneckCSP             [256, 256, 3]                 \n",
            "  7                -1  1   1180672  models.common.Conv                      [256, 512, 3, 2]              \n",
            "  8                -1  1    656896  models.common.SPP                       [512, 512, [5, 9, 13]]        \n",
            "  9                -1  1   1248768  models.common.BottleneckCSP             [512, 512, 1, False]          \n",
            " 10                -1  1    131584  models.common.Conv                      [512, 256, 1, 1]              \n",
            " 11                -1  1         0  torch.nn.modules.upsampling.Upsample    [None, 2, 'nearest']          \n",
            " 12           [-1, 6]  1         0  models.common.Concat                    [1]                           \n",
            " 13                -1  1    378624  models.common.BottleneckCSP             [512, 256, 1, False]          \n",
            " 14                -1  1     33024  models.common.Conv                      [256, 128, 1, 1]              \n",
            " 15                -1  1         0  torch.nn.modules.upsampling.Upsample    [None, 2, 'nearest']          \n",
            " 16           [-1, 4]  1         0  models.common.Concat                    [1]                           \n",
            " 17                -1  1     95104  models.common.BottleneckCSP             [256, 128, 1, False]          \n",
            " 18                -1  1    147712  models.common.Conv                      [128, 128, 3, 2]              \n",
            " 19          [-1, 14]  1         0  models.common.Concat                    [1]                           \n",
            " 20                -1  1    313088  models.common.BottleneckCSP             [256, 256, 1, False]          \n",
            " 21                -1  1    590336  models.common.Conv                      [256, 256, 3, 2]              \n",
            " 22          [-1, 10]  1         0  models.common.Concat                    [1]                           \n",
            " 23                -1  1   1248768  models.common.BottleneckCSP             [512, 512, 1, False]          \n",
            " 24      [17, 20, 23]  1     16182  models.yolo.Detect                      [1, [[10, 13, 16, 30, 33, 23], [30, 61, 62, 45, 59, 119], [116, 90, 156, 198, 373, 326]], [128, 256, 512]]\n",
            "custom_YOLOv5s summary: 283 layers, 7255094 parameters, 7255094 gradients, 16.9 GFLOPs\n",
            "\n",
            "\u001b[34m\u001b[1mAMP: \u001b[0mchecks passed ✅\n",
            "Scaled weight_decay = 0.0005\n",
            "\u001b[34m\u001b[1moptimizer:\u001b[0m SGD with parameter groups 59 weight (no decay), 70 weight, 62 bias\n",
            "\u001b[34m\u001b[1malbumentations: \u001b[0mBlur(always_apply=False, p=0.01, blur_limit=(3, 7)), MedianBlur(always_apply=False, p=0.01, blur_limit=(3, 7)), ToGray(always_apply=False, p=0.01), CLAHE(always_apply=False, p=0.01, clip_limit=(1, 4.0), tile_grid_size=(8, 8))\n",
            "\u001b[34m\u001b[1mtrain: \u001b[0mScanning '/content/yolov5/straw1-4/train/labels' images and labels...306 found, 0 missing, 21 empty, 0 corrupt: 100% 306/306 [00:00<00:00, 2061.23it/s]\n",
            "\u001b[34m\u001b[1mtrain: \u001b[0mNew cache created: /content/yolov5/straw1-4/train/labels.cache\n",
            "\u001b[34m\u001b[1mtrain: \u001b[0mCaching images (0.2GB ram): 100% 306/306 [00:00<00:00, 338.33it/s]\n",
            "\u001b[34m\u001b[1mval: \u001b[0mScanning '/content/yolov5/straw1-4/valid/labels' images and labels...102 found, 0 missing, 10 empty, 0 corrupt: 100% 102/102 [00:00<00:00, 655.14it/s]\n",
            "\u001b[34m\u001b[1mval: \u001b[0mNew cache created: /content/yolov5/straw1-4/valid/labels.cache\n",
            "\u001b[34m\u001b[1mval: \u001b[0mCaching images (0.1GB ram): 100% 102/102 [00:00<00:00, 224.70it/s]\n",
            "Plotting labels to runs/train/yolov5s_results/labels.jpg... \n",
            "\n",
            "\u001b[34m\u001b[1mAutoAnchor: \u001b[0m4.86 anchors/target, 1.000 Best Possible Recall (BPR). Current anchors are a good fit to dataset ✅\n",
            "Image sizes 416 train, 416 val\n",
            "Using 2 dataloader workers\n",
            "Logging results to \u001b[1mruns/train/yolov5s_results\u001b[0m\n",
            "Starting training for 100 epochs...\n",
            "\n",
            "     Epoch   gpu_mem       box       obj       cls    labels  img_size\n",
            "      0/99     1.77G    0.1025   0.02307         0         6       416: 100% 20/20 [00:06<00:00,  2.97it/s]\n",
            "               Class     Images     Labels          P          R     mAP@.5 mAP@.5:.95: 100% 4/4 [00:02<00:00,  1.36it/s]\n",
            "                 all        102        133    0.00307      0.707    0.00439    0.00113\n",
            "\n",
            "     Epoch   gpu_mem       box       obj       cls    labels  img_size\n",
            "      1/99     2.17G   0.09206   0.02396         0         5       416: 100% 20/20 [00:03<00:00,  6.31it/s]\n",
            "               Class     Images     Labels          P          R     mAP@.5 mAP@.5:.95: 100% 4/4 [00:01<00:00,  2.31it/s]\n",
            "                 all        102        133     0.0033      0.759    0.00569    0.00151\n",
            "\n",
            "     Epoch   gpu_mem       box       obj       cls    labels  img_size\n",
            "      2/99     2.17G   0.08771   0.02379         0         1       416: 100% 20/20 [00:03<00:00,  5.59it/s]\n",
            "               Class     Images     Labels          P          R     mAP@.5 mAP@.5:.95: 100% 4/4 [00:01<00:00,  2.67it/s]\n",
            "                 all        102        133    0.00337      0.774    0.00583    0.00168\n",
            "\n",
            "     Epoch   gpu_mem       box       obj       cls    labels  img_size\n",
            "      3/99     2.17G   0.08323   0.02464         0         2       416: 100% 20/20 [00:03<00:00,  6.40it/s]\n",
            "               Class     Images     Labels          P          R     mAP@.5 mAP@.5:.95: 100% 4/4 [00:00<00:00,  5.54it/s]\n",
            "                 all        102        133     0.0033      0.759    0.00624    0.00181\n",
            "\n",
            "     Epoch   gpu_mem       box       obj       cls    labels  img_size\n",
            "      4/99     2.17G   0.08429   0.02592         0         4       416: 100% 20/20 [00:03<00:00,  6.43it/s]\n",
            "               Class     Images     Labels          P          R     mAP@.5 mAP@.5:.95: 100% 4/4 [00:00<00:00,  5.56it/s]\n",
            "                 all        102        133     0.0033      0.759     0.0104    0.00236\n",
            "\n",
            "     Epoch   gpu_mem       box       obj       cls    labels  img_size\n",
            "      5/99     2.17G   0.08167   0.02657         0         7       416: 100% 20/20 [00:03<00:00,  5.90it/s]\n",
            "               Class     Images     Labels          P          R     mAP@.5 mAP@.5:.95: 100% 4/4 [00:00<00:00,  5.33it/s]\n",
            "                 all        102        133    0.00307      0.707     0.0247    0.00389\n",
            "\n",
            "     Epoch   gpu_mem       box       obj       cls    labels  img_size\n",
            "      6/99     2.17G   0.08042   0.02462         0         1       416: 100% 20/20 [00:04<00:00,  4.58it/s]\n",
            "               Class     Images     Labels          P          R     mAP@.5 mAP@.5:.95: 100% 4/4 [00:00<00:00,  5.44it/s]\n",
            "                 all        102        133     0.0033      0.759     0.0112    0.00253\n",
            "\n",
            "     Epoch   gpu_mem       box       obj       cls    labels  img_size\n",
            "      7/99     2.17G   0.07777   0.02544         0         3       416: 100% 20/20 [00:02<00:00,  6.68it/s]\n",
            "               Class     Images     Labels          P          R     mAP@.5 mAP@.5:.95: 100% 4/4 [00:00<00:00,  5.52it/s]\n",
            "                 all        102        133    0.00307      0.707    0.00851    0.00214\n",
            "\n",
            "     Epoch   gpu_mem       box       obj       cls    labels  img_size\n",
            "      8/99     2.17G   0.07908   0.02617         0         4       416: 100% 20/20 [00:03<00:00,  6.55it/s]\n",
            "               Class     Images     Labels          P          R     mAP@.5 mAP@.5:.95: 100% 4/4 [00:00<00:00,  5.68it/s]\n",
            "                 all        102        133    0.00337      0.774     0.0071    0.00193\n",
            "\n",
            "     Epoch   gpu_mem       box       obj       cls    labels  img_size\n",
            "      9/99     2.17G   0.07577   0.02574         0         4       416: 100% 20/20 [00:03<00:00,  6.56it/s]\n",
            "               Class     Images     Labels          P          R     mAP@.5 mAP@.5:.95: 100% 4/4 [00:00<00:00,  5.98it/s]\n",
            "                 all        102        133    0.00278      0.639    0.00521    0.00124\n",
            "\n",
            "     Epoch   gpu_mem       box       obj       cls    labels  img_size\n",
            "     10/99     2.17G    0.0722   0.02599         0         4       416: 100% 20/20 [00:03<00:00,  5.94it/s]\n",
            "               Class     Images     Labels          P          R     mAP@.5 mAP@.5:.95: 100% 4/4 [00:00<00:00,  4.18it/s]\n",
            "                 all        102        133    0.00301      0.692     0.0196    0.00492\n",
            "\n",
            "     Epoch   gpu_mem       box       obj       cls    labels  img_size\n",
            "     11/99     2.17G   0.07217   0.02522         0         5       416: 100% 20/20 [00:03<00:00,  6.11it/s]\n",
            "               Class     Images     Labels          P          R     mAP@.5 mAP@.5:.95: 100% 4/4 [00:00<00:00,  5.83it/s]\n",
            "                 all        102        133      0.004      0.459    0.00652    0.00161\n",
            "\n",
            "     Epoch   gpu_mem       box       obj       cls    labels  img_size\n",
            "     12/99     2.17G   0.06991   0.02527         0         5       416: 100% 20/20 [00:03<00:00,  6.52it/s]\n",
            "               Class     Images     Labels          P          R     mAP@.5 mAP@.5:.95: 100% 4/4 [00:00<00:00,  5.81it/s]\n",
            "                 all        102        133    0.00919      0.398     0.0106    0.00259\n",
            "\n",
            "     Epoch   gpu_mem       box       obj       cls    labels  img_size\n",
            "     13/99     2.17G    0.0741   0.02558         0         2       416: 100% 20/20 [00:03<00:00,  6.52it/s]\n",
            "               Class     Images     Labels          P          R     mAP@.5 mAP@.5:.95: 100% 4/4 [00:00<00:00,  5.88it/s]\n",
            "                 all        102        133    0.00897      0.496     0.0111    0.00281\n",
            "\n",
            "     Epoch   gpu_mem       box       obj       cls    labels  img_size\n",
            "     14/99     2.17G   0.06674   0.02719         0         7       416: 100% 20/20 [00:03<00:00,  6.57it/s]\n",
            "               Class     Images     Labels          P          R     mAP@.5 mAP@.5:.95: 100% 4/4 [00:00<00:00,  5.79it/s]\n",
            "                 all        102        133     0.0304      0.496     0.0324    0.00913\n",
            "\n",
            "     Epoch   gpu_mem       box       obj       cls    labels  img_size\n",
            "     15/99     2.17G   0.06752   0.02628         0         3       416: 100% 20/20 [00:03<00:00,  6.60it/s]\n",
            "               Class     Images     Labels          P          R     mAP@.5 mAP@.5:.95: 100% 4/4 [00:00<00:00,  5.65it/s]\n",
            "                 all        102        133       0.05      0.383     0.0605     0.0171\n",
            "\n",
            "     Epoch   gpu_mem       box       obj       cls    labels  img_size\n",
            "     16/99     2.17G   0.06403   0.02807         0         6       416: 100% 20/20 [00:03<00:00,  6.56it/s]\n",
            "               Class     Images     Labels          P          R     mAP@.5 mAP@.5:.95: 100% 4/4 [00:00<00:00,  5.71it/s]\n",
            "                 all        102        133     0.0489      0.368     0.0531     0.0127\n",
            "\n",
            "     Epoch   gpu_mem       box       obj       cls    labels  img_size\n",
            "     17/99     2.17G   0.06456   0.02538         0         4       416: 100% 20/20 [00:03<00:00,  6.55it/s]\n",
            "               Class     Images     Labels          P          R     mAP@.5 mAP@.5:.95: 100% 4/4 [00:00<00:00,  5.84it/s]\n",
            "                 all        102        133      0.143      0.195     0.0636     0.0176\n",
            "\n",
            "     Epoch   gpu_mem       box       obj       cls    labels  img_size\n",
            "     18/99     2.17G   0.06402   0.02617         0         5       416: 100% 20/20 [00:03<00:00,  6.55it/s]\n",
            "               Class     Images     Labels          P          R     mAP@.5 mAP@.5:.95: 100% 4/4 [00:00<00:00,  5.94it/s]\n",
            "                 all        102        133     0.0826     0.0752     0.0467    0.00895\n",
            "\n",
            "     Epoch   gpu_mem       box       obj       cls    labels  img_size\n",
            "     19/99     2.17G   0.06063   0.02524         0         1       416: 100% 20/20 [00:03<00:00,  6.63it/s]\n",
            "               Class     Images     Labels          P          R     mAP@.5 mAP@.5:.95: 100% 4/4 [00:00<00:00,  5.64it/s]\n",
            "                 all        102        133       0.23      0.226      0.126       0.03\n",
            "\n",
            "     Epoch   gpu_mem       box       obj       cls    labels  img_size\n",
            "     20/99     2.17G   0.06394   0.02569         0         5       416: 100% 20/20 [00:03<00:00,  6.60it/s]\n",
            "               Class     Images     Labels          P          R     mAP@.5 mAP@.5:.95: 100% 4/4 [00:00<00:00,  5.90it/s]\n",
            "                 all        102        133      0.207      0.135     0.0719     0.0193\n",
            "\n",
            "     Epoch   gpu_mem       box       obj       cls    labels  img_size\n",
            "     21/99     2.17G   0.05984   0.02479         0         2       416: 100% 20/20 [00:03<00:00,  6.63it/s]\n",
            "               Class     Images     Labels          P          R     mAP@.5 mAP@.5:.95: 100% 4/4 [00:00<00:00,  5.62it/s]\n",
            "                 all        102        133      0.223      0.311      0.144     0.0379\n",
            "\n",
            "     Epoch   gpu_mem       box       obj       cls    labels  img_size\n",
            "     22/99     2.17G   0.06098   0.02426         0         5       416: 100% 20/20 [00:03<00:00,  5.65it/s]\n",
            "               Class     Images     Labels          P          R     mAP@.5 mAP@.5:.95: 100% 4/4 [00:00<00:00,  4.09it/s]\n",
            "                 all        102        133       0.15      0.256     0.0825     0.0162\n",
            "\n",
            "     Epoch   gpu_mem       box       obj       cls    labels  img_size\n",
            "     23/99     2.17G   0.06005   0.02631         0         2       416: 100% 20/20 [00:04<00:00,  4.52it/s]\n",
            "               Class     Images     Labels          P          R     mAP@.5 mAP@.5:.95: 100% 4/4 [00:00<00:00,  5.49it/s]\n",
            "                 all        102        133      0.241      0.376      0.187     0.0646\n",
            "\n",
            "     Epoch   gpu_mem       box       obj       cls    labels  img_size\n",
            "     24/99     2.17G   0.05676   0.02372         0         2       416: 100% 20/20 [00:03<00:00,  6.47it/s]\n",
            "               Class     Images     Labels          P          R     mAP@.5 mAP@.5:.95: 100% 4/4 [00:00<00:00,  5.87it/s]\n",
            "                 all        102        133      0.281      0.241       0.17     0.0419\n",
            "\n",
            "     Epoch   gpu_mem       box       obj       cls    labels  img_size\n",
            "     25/99     2.17G   0.05944    0.0254         0         8       416: 100% 20/20 [00:03<00:00,  6.58it/s]\n",
            "               Class     Images     Labels          P          R     mAP@.5 mAP@.5:.95: 100% 4/4 [00:00<00:00,  5.84it/s]\n",
            "                 all        102        133      0.134      0.173     0.0915      0.026\n",
            "\n",
            "     Epoch   gpu_mem       box       obj       cls    labels  img_size\n",
            "     26/99     2.17G   0.05709   0.02348         0         4       416: 100% 20/20 [00:02<00:00,  6.75it/s]\n",
            "               Class     Images     Labels          P          R     mAP@.5 mAP@.5:.95: 100% 4/4 [00:00<00:00,  5.61it/s]\n",
            "                 all        102        133      0.414      0.474      0.332      0.116\n",
            "\n",
            "     Epoch   gpu_mem       box       obj       cls    labels  img_size\n",
            "     27/99     2.17G   0.05631   0.02426         0         3       416: 100% 20/20 [00:03<00:00,  6.48it/s]\n",
            "               Class     Images     Labels          P          R     mAP@.5 mAP@.5:.95: 100% 4/4 [00:00<00:00,  5.56it/s]\n",
            "                 all        102        133      0.366      0.339      0.278      0.116\n",
            "\n",
            "     Epoch   gpu_mem       box       obj       cls    labels  img_size\n",
            "     28/99     2.17G   0.05811   0.02394         0         3       416: 100% 20/20 [00:03<00:00,  6.59it/s]\n",
            "               Class     Images     Labels          P          R     mAP@.5 mAP@.5:.95: 100% 4/4 [00:00<00:00,  5.46it/s]\n",
            "                 all        102        133      0.455      0.474      0.371      0.125\n",
            "\n",
            "     Epoch   gpu_mem       box       obj       cls    labels  img_size\n",
            "     29/99     2.17G   0.05483   0.02397         0         2       416: 100% 20/20 [00:03<00:00,  6.47it/s]\n",
            "               Class     Images     Labels          P          R     mAP@.5 mAP@.5:.95: 100% 4/4 [00:00<00:00,  5.54it/s]\n",
            "                 all        102        133      0.305      0.421      0.308      0.111\n",
            "\n",
            "     Epoch   gpu_mem       box       obj       cls    labels  img_size\n",
            "     30/99     2.17G   0.05588   0.02282         0         5       416: 100% 20/20 [00:03<00:00,  6.56it/s]\n",
            "               Class     Images     Labels          P          R     mAP@.5 mAP@.5:.95: 100% 4/4 [00:00<00:00,  5.68it/s]\n",
            "                 all        102        133      0.387      0.342      0.317      0.115\n",
            "\n",
            "     Epoch   gpu_mem       box       obj       cls    labels  img_size\n",
            "     31/99     2.17G   0.05624   0.02266         0         4       416: 100% 20/20 [00:03<00:00,  6.43it/s]\n",
            "               Class     Images     Labels          P          R     mAP@.5 mAP@.5:.95: 100% 4/4 [00:00<00:00,  5.80it/s]\n",
            "                 all        102        133      0.462      0.346      0.326     0.0853\n",
            "\n",
            "     Epoch   gpu_mem       box       obj       cls    labels  img_size\n",
            "     32/99     2.17G   0.05346   0.02217         0         2       416: 100% 20/20 [00:04<00:00,  4.59it/s]\n",
            "               Class     Images     Labels          P          R     mAP@.5 mAP@.5:.95: 100% 4/4 [00:00<00:00,  5.49it/s]\n",
            "                 all        102        133      0.413      0.406      0.361     0.0965\n",
            "\n",
            "     Epoch   gpu_mem       box       obj       cls    labels  img_size\n",
            "     33/99     2.17G   0.05349   0.02119         0         1       416: 100% 20/20 [00:03<00:00,  6.53it/s]\n",
            "               Class     Images     Labels          P          R     mAP@.5 mAP@.5:.95: 100% 4/4 [00:00<00:00,  5.54it/s]\n",
            "                 all        102        133      0.521      0.323      0.352     0.0934\n",
            "\n",
            "     Epoch   gpu_mem       box       obj       cls    labels  img_size\n",
            "     34/99     2.17G   0.05658   0.02256         0         6       416: 100% 20/20 [00:03<00:00,  6.58it/s]\n",
            "               Class     Images     Labels          P          R     mAP@.5 mAP@.5:.95: 100% 4/4 [00:00<00:00,  5.61it/s]\n",
            "                 all        102        133      0.504      0.368      0.374      0.133\n",
            "\n",
            "     Epoch   gpu_mem       box       obj       cls    labels  img_size\n",
            "     35/99     2.17G   0.05332   0.02319         0         4       416: 100% 20/20 [00:03<00:00,  6.53it/s]\n",
            "               Class     Images     Labels          P          R     mAP@.5 mAP@.5:.95: 100% 4/4 [00:00<00:00,  5.63it/s]\n",
            "                 all        102        133      0.479      0.534      0.455      0.132\n",
            "\n",
            "     Epoch   gpu_mem       box       obj       cls    labels  img_size\n",
            "     36/99     2.17G   0.05369   0.02135         0         3       416: 100% 20/20 [00:03<00:00,  6.45it/s]\n",
            "               Class     Images     Labels          P          R     mAP@.5 mAP@.5:.95: 100% 4/4 [00:00<00:00,  5.43it/s]\n",
            "                 all        102        133      0.585      0.338      0.384      0.154\n",
            "\n",
            "     Epoch   gpu_mem       box       obj       cls    labels  img_size\n",
            "     37/99     2.17G   0.04984    0.0216         0         2       416: 100% 20/20 [00:03<00:00,  6.52it/s]\n",
            "               Class     Images     Labels          P          R     mAP@.5 mAP@.5:.95: 100% 4/4 [00:00<00:00,  6.08it/s]\n",
            "                 all        102        133      0.231      0.226      0.153      0.041\n",
            "\n",
            "     Epoch   gpu_mem       box       obj       cls    labels  img_size\n",
            "     38/99     2.17G   0.05206   0.02319         0         7       416: 100% 20/20 [00:03<00:00,  6.45it/s]\n",
            "               Class     Images     Labels          P          R     mAP@.5 mAP@.5:.95: 100% 4/4 [00:00<00:00,  5.70it/s]\n",
            "                 all        102        133      0.447      0.188      0.187     0.0662\n",
            "\n",
            "     Epoch   gpu_mem       box       obj       cls    labels  img_size\n",
            "     39/99     2.17G   0.04952   0.02249         0         2       416: 100% 20/20 [00:03<00:00,  6.65it/s]\n",
            "               Class     Images     Labels          P          R     mAP@.5 mAP@.5:.95: 100% 4/4 [00:00<00:00,  5.39it/s]\n",
            "                 all        102        133      0.666      0.383      0.446      0.151\n",
            "\n",
            "     Epoch   gpu_mem       box       obj       cls    labels  img_size\n",
            "     40/99     2.17G   0.05039   0.02074         0         3       416: 100% 20/20 [00:03<00:00,  6.54it/s]\n",
            "               Class     Images     Labels          P          R     mAP@.5 mAP@.5:.95: 100% 4/4 [00:00<00:00,  5.48it/s]\n",
            "                 all        102        133      0.601      0.466       0.49      0.201\n",
            "\n",
            "     Epoch   gpu_mem       box       obj       cls    labels  img_size\n",
            "     41/99     2.17G   0.04786   0.02055         0         2       416: 100% 20/20 [00:03<00:00,  6.04it/s]\n",
            "               Class     Images     Labels          P          R     mAP@.5 mAP@.5:.95: 100% 4/4 [00:01<00:00,  3.95it/s]\n",
            "                 all        102        133      0.653      0.467      0.525      0.189\n",
            "\n",
            "     Epoch   gpu_mem       box       obj       cls    labels  img_size\n",
            "     42/99     2.17G   0.04881   0.02079         0         1       416: 100% 20/20 [00:03<00:00,  5.96it/s]\n",
            "               Class     Images     Labels          P          R     mAP@.5 mAP@.5:.95: 100% 4/4 [00:00<00:00,  5.58it/s]\n",
            "                 all        102        133      0.709      0.444      0.569       0.23\n",
            "\n",
            "     Epoch   gpu_mem       box       obj       cls    labels  img_size\n",
            "     43/99     2.17G   0.05212   0.02086         0         1       416: 100% 20/20 [00:03<00:00,  6.53it/s]\n",
            "               Class     Images     Labels          P          R     mAP@.5 mAP@.5:.95: 100% 4/4 [00:00<00:00,  5.64it/s]\n",
            "                 all        102        133      0.741      0.494      0.547       0.22\n",
            "\n",
            "     Epoch   gpu_mem       box       obj       cls    labels  img_size\n",
            "     44/99     2.17G   0.05306   0.02084         0         3       416: 100% 20/20 [00:03<00:00,  6.55it/s]\n",
            "               Class     Images     Labels          P          R     mAP@.5 mAP@.5:.95: 100% 4/4 [00:00<00:00,  5.63it/s]\n",
            "                 all        102        133      0.594      0.529       0.54      0.172\n",
            "\n",
            "     Epoch   gpu_mem       box       obj       cls    labels  img_size\n",
            "     45/99     2.17G   0.05112   0.02133         0         6       416: 100% 20/20 [00:03<00:00,  6.47it/s]\n",
            "               Class     Images     Labels          P          R     mAP@.5 mAP@.5:.95: 100% 4/4 [00:00<00:00,  5.63it/s]\n",
            "                 all        102        133      0.528      0.481      0.509      0.162\n",
            "\n",
            "     Epoch   gpu_mem       box       obj       cls    labels  img_size\n",
            "     46/99     2.17G   0.04645   0.02092         0         8       416: 100% 20/20 [00:03<00:00,  6.58it/s]\n",
            "               Class     Images     Labels          P          R     mAP@.5 mAP@.5:.95: 100% 4/4 [00:00<00:00,  5.65it/s]\n",
            "                 all        102        133      0.585      0.459      0.494      0.181\n",
            "\n",
            "     Epoch   gpu_mem       box       obj       cls    labels  img_size\n",
            "     47/99     2.17G   0.04898   0.02114         0         4       416: 100% 20/20 [00:02<00:00,  6.67it/s]\n",
            "               Class     Images     Labels          P          R     mAP@.5 mAP@.5:.95: 100% 4/4 [00:00<00:00,  5.66it/s]\n",
            "                 all        102        133      0.588      0.526       0.53      0.159\n",
            "\n",
            "     Epoch   gpu_mem       box       obj       cls    labels  img_size\n",
            "     48/99     2.17G   0.04604   0.02047         0         4       416: 100% 20/20 [00:03<00:00,  6.57it/s]\n",
            "               Class     Images     Labels          P          R     mAP@.5 mAP@.5:.95: 100% 4/4 [00:00<00:00,  5.82it/s]\n",
            "                 all        102        133      0.546      0.301      0.301     0.0597\n",
            "\n",
            "     Epoch   gpu_mem       box       obj       cls    labels  img_size\n",
            "     49/99     2.17G   0.04488   0.01956         0         2       416: 100% 20/20 [00:03<00:00,  6.50it/s]\n",
            "               Class     Images     Labels          P          R     mAP@.5 mAP@.5:.95: 100% 4/4 [00:00<00:00,  5.63it/s]\n",
            "                 all        102        133      0.626      0.391       0.44      0.163\n",
            "\n",
            "     Epoch   gpu_mem       box       obj       cls    labels  img_size\n",
            "     50/99     2.17G   0.04892   0.01968         0         5       416: 100% 20/20 [00:03<00:00,  6.56it/s]\n",
            "               Class     Images     Labels          P          R     mAP@.5 mAP@.5:.95: 100% 4/4 [00:00<00:00,  5.65it/s]\n",
            "                 all        102        133      0.388      0.308      0.264     0.0691\n",
            "\n",
            "     Epoch   gpu_mem       box       obj       cls    labels  img_size\n",
            "     51/99     2.17G   0.04793   0.01916         0         1       416: 100% 20/20 [00:03<00:00,  6.38it/s]\n",
            "               Class     Images     Labels          P          R     mAP@.5 mAP@.5:.95: 100% 4/4 [00:00<00:00,  5.63it/s]\n",
            "                 all        102        133      0.599      0.301      0.386      0.121\n",
            "\n",
            "     Epoch   gpu_mem       box       obj       cls    labels  img_size\n",
            "     52/99     2.17G    0.0436   0.01972         0         2       416: 100% 20/20 [00:03<00:00,  6.59it/s]\n",
            "               Class     Images     Labels          P          R     mAP@.5 mAP@.5:.95: 100% 4/4 [00:00<00:00,  5.82it/s]\n",
            "                 all        102        133      0.667      0.444      0.522      0.191\n",
            "\n",
            "     Epoch   gpu_mem       box       obj       cls    labels  img_size\n",
            "     53/99     2.17G   0.04742   0.01836         0         3       416: 100% 20/20 [00:03<00:00,  6.49it/s]\n",
            "               Class     Images     Labels          P          R     mAP@.5 mAP@.5:.95: 100% 4/4 [00:00<00:00,  5.62it/s]\n",
            "                 all        102        133      0.716      0.406       0.52      0.244\n",
            "\n",
            "     Epoch   gpu_mem       box       obj       cls    labels  img_size\n",
            "     54/99     2.17G   0.04489   0.01886         0         6       416: 100% 20/20 [00:04<00:00,  4.60it/s]\n",
            "               Class     Images     Labels          P          R     mAP@.5 mAP@.5:.95: 100% 4/4 [00:00<00:00,  5.68it/s]\n",
            "                 all        102        133      0.693      0.526      0.599      0.204\n",
            "\n",
            "     Epoch   gpu_mem       box       obj       cls    labels  img_size\n",
            "     55/99     2.17G   0.04567   0.01971         0         6       416: 100% 20/20 [00:03<00:00,  6.53it/s]\n",
            "               Class     Images     Labels          P          R     mAP@.5 mAP@.5:.95: 100% 4/4 [00:00<00:00,  5.66it/s]\n",
            "                 all        102        133      0.721      0.466      0.527      0.218\n",
            "\n",
            "     Epoch   gpu_mem       box       obj       cls    labels  img_size\n",
            "     56/99     2.17G   0.04546   0.01964         0         4       416: 100% 20/20 [00:03<00:00,  6.49it/s]\n",
            "               Class     Images     Labels          P          R     mAP@.5 mAP@.5:.95: 100% 4/4 [00:00<00:00,  5.63it/s]\n",
            "                 all        102        133      0.778      0.511      0.602      0.226\n",
            "\n",
            "     Epoch   gpu_mem       box       obj       cls    labels  img_size\n",
            "     57/99     2.17G   0.04312   0.01861         0         1       416: 100% 20/20 [00:04<00:00,  4.92it/s]\n",
            "               Class     Images     Labels          P          R     mAP@.5 mAP@.5:.95: 100% 4/4 [00:00<00:00,  5.85it/s]\n",
            "                 all        102        133      0.741      0.494      0.534      0.176\n",
            "\n",
            "     Epoch   gpu_mem       box       obj       cls    labels  img_size\n",
            "     58/99     2.17G   0.04254   0.01969         0         6       416: 100% 20/20 [00:03<00:00,  6.65it/s]\n",
            "               Class     Images     Labels          P          R     mAP@.5 mAP@.5:.95: 100% 4/4 [00:00<00:00,  5.95it/s]\n",
            "                 all        102        133      0.666      0.496      0.543      0.207\n",
            "\n",
            "     Epoch   gpu_mem       box       obj       cls    labels  img_size\n",
            "     59/99     2.17G   0.04424   0.01841         0         2       416: 100% 20/20 [00:03<00:00,  6.64it/s]\n",
            "               Class     Images     Labels          P          R     mAP@.5 mAP@.5:.95: 100% 4/4 [00:00<00:00,  5.75it/s]\n",
            "                 all        102        133      0.675      0.577      0.604      0.267\n",
            "\n",
            "     Epoch   gpu_mem       box       obj       cls    labels  img_size\n",
            "     60/99     2.17G   0.04464   0.01868         0        27       416:  75% 15/20 [00:02<00:00,  6.60it/s]"
          ]
        }
      ]
    },
    {
      "cell_type": "markdown",
      "metadata": {
        "id": "kJVs_4zEeVbF"
      },
      "source": [
        "# Evaluate Custom YOLOv5 Detector Performance"
      ]
    },
    {
      "cell_type": "markdown",
      "metadata": {
        "id": "7KN5ghjE6ZWh"
      },
      "source": [
        "Training losses and performance metrics are saved to Tensorboard and also to a logfile defined above with the **--name** flag when we train. In our case, we named this `yolov5s_results`. (If given no name, it defaults to `results.txt`.) The results file is plotted as a png after training completes.\n",
        "\n",
        "Note from Glenn: Partially completed `results.txt` files can be plotted with `from utils.utils import plot_results; plot_results()`."
      ]
    },
    {
      "cell_type": "code",
      "metadata": {
        "id": "bOy5KI2ncnWd"
      },
      "source": [
        "# Start tensorboard\n",
        "# Launch after you have started training\n",
        "# logs save in the folder \"runs\"\n",
        "%load_ext tensorboard\n",
        "%tensorboard --logdir runs"
      ],
      "execution_count": null,
      "outputs": []
    },
    {
      "cell_type": "code",
      "metadata": {
        "id": "C60XAsyv6OPe"
      },
      "source": [
        "# we can also output some older school graphs if the tensor board isn't working for whatever reason... \n",
        "from utils.plots import plot_results  # plot results.txt as results.png\n",
        "Image(filename='/content/yolov5/runs/train/yolov5s_results/results.png', width=1000)  # view results.png"
      ],
      "execution_count": null,
      "outputs": []
    },
    {
      "cell_type": "markdown",
      "metadata": {
        "id": "DLI1JmHU7B0l"
      },
      "source": [
        "### Curious? Visualize Our Training Data with Labels\n",
        "\n",
        "After training starts, view `train*.jpg` images to see training images, labels and augmentation effects.\n",
        "\n",
        "Note a mosaic dataloader is used for training (shown below), a new dataloading concept developed by Glenn Jocher and first featured in [YOLOv4](https://arxiv.org/abs/2004.10934)."
      ]
    },
    {
      "cell_type": "code",
      "metadata": {
        "id": "PF9MLHDb7tB6"
      },
      "source": [
        "# first, display our ground truth data\n",
        "print(\"GROUND TRUTH TRAINING DATA:\")\n",
        "Image(filename='/content/yolov5/runs/train/yolov5s_results/test_batch0_labels.jpg', width=900)"
      ],
      "execution_count": null,
      "outputs": []
    },
    {
      "cell_type": "code",
      "metadata": {
        "id": "W40tI99_7BcH"
      },
      "source": [
        "# print out an augmented training example\n",
        "print(\"GROUND TRUTH AUGMENTED TRAINING DATA:\")\n",
        "Image(filename='/content/yolov5/runs/train/yolov5s_results/train_batch0.jpg', width=900)"
      ],
      "execution_count": null,
      "outputs": []
    },
    {
      "cell_type": "markdown",
      "metadata": {
        "id": "N3qM6T0W53gh"
      },
      "source": [
        "#Run Inference  With Trained Weights\n",
        "Run inference with a pretrained checkpoint on contents of `test/images` folder downloaded from Roboflow."
      ]
    },
    {
      "cell_type": "code",
      "metadata": {
        "id": "yIEwt5YLeQ7P"
      },
      "source": [
        "# trained weights are saved by default in our weights folder\n",
        "%ls runs/"
      ],
      "execution_count": null,
      "outputs": []
    },
    {
      "cell_type": "code",
      "metadata": {
        "id": "4SyOWS80qR32"
      },
      "source": [
        "%ls runs/train/yolov5s_results/weights"
      ],
      "execution_count": null,
      "outputs": []
    },
    {
      "cell_type": "code",
      "metadata": {
        "id": "9nmZZnWOgJ2S"
      },
      "source": [
        "# when we ran this, we saw .007 second inference time. That is 140 FPS on a TESLA P100!\n",
        "# use the best weights!\n",
        "%cd /content/yolov5/\n",
        "!python detect.py --weights runs/train/yolov5s_results/weights/best.pt --img 416 --conf 0.4 --source ../test/images"
      ],
      "execution_count": null,
      "outputs": []
    },
    {
      "cell_type": "code",
      "metadata": {
        "id": "odKEqYtTgbRc"
      },
      "source": [
        "#display inference on ALL test images\n",
        "#this looks much better with longer training above\n",
        "\n",
        "import glob\n",
        "from IPython.display import Image, display\n",
        "\n",
        "for imageName in glob.glob('/content/yolov5/runs/detect/exp/*.jpg'): #assuming JPG\n",
        "    display(Image(filename=imageName))\n",
        "    print(\"\\n\")"
      ],
      "execution_count": null,
      "outputs": []
    },
    {
      "cell_type": "markdown",
      "metadata": {
        "id": "_uPq9mVgiBql"
      },
      "source": [
        "# Export Trained Weights for Future Inference\n",
        "\n",
        "Now that you have trained your custom detector, you can export the trained weights you have made here for inference on your device elsewhere"
      ]
    },
    {
      "cell_type": "code",
      "metadata": {
        "id": "YH4CTzDRh00g"
      },
      "source": [
        "from google.colab import drive\n",
        "drive.mount('/content/gdrive')"
      ],
      "execution_count": null,
      "outputs": []
    },
    {
      "cell_type": "code",
      "metadata": {
        "id": "1x_wg3VeiXMW"
      },
      "source": [
        "%cp /content/yolov5/runs/train/yolov5s_results/weights/best.pt /content/gdrive/My\\ Drive"
      ],
      "execution_count": null,
      "outputs": []
    },
    {
      "cell_type": "markdown",
      "metadata": {
        "id": "LVpCFeU-K4gb"
      },
      "source": [
        "## Congrats!\n",
        "\n",
        "Hope you enjoyed this!\n",
        "\n",
        "--Team [Roboflow](https://roboflow.ai)"
      ]
    },
    {
      "cell_type": "code",
      "source": [],
      "metadata": {
        "id": "Onsvw07fB01D"
      },
      "execution_count": null,
      "outputs": []
    }
  ]
}